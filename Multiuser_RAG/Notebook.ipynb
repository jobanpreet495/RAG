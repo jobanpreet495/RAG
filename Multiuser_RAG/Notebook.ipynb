{
 "cells": [
  {
   "cell_type": "markdown",
   "id": "6cda8efc-584c-4e64-b76c-362cd7301441",
   "metadata": {},
   "source": [
    "## Multiuser RAG"
   ]
  },
  {
   "cell_type": "code",
   "execution_count": 24,
   "id": "d75590b5-0e97-4967-bbfb-9aa7f97840d9",
   "metadata": {},
   "outputs": [],
   "source": [
    "import os\n",
    "os.environ[\"OPENAI_API_KEY\"] = \"\""
   ]
  },
  {
   "cell_type": "code",
   "execution_count": 3,
   "id": "4c7f6b7f-b60b-4b78-9410-b05563c297bd",
   "metadata": {},
   "outputs": [],
   "source": [
    "from langchain_openai import ChatOpenAI\n",
    "from langchain.schema.output_parser import StrOutputParser \n",
    "from langchain_core.prompts import  ChatPromptTemplate ,MessagesPlaceholder\n",
    "from langchain.memory import FileChatMessageHistory\n",
    "from langchain_core.runnables.history import RunnableWithMessageHistory\n",
    "from pathlib import Path\n",
    "\n",
    "model = ChatOpenAI(temperature = 0 , model =\"gpt-3.5-turbo\")"
   ]
  },
  {
   "cell_type": "code",
   "execution_count": 4,
   "id": "daa2824d-0efc-4221-8339-297f010f6418",
   "metadata": {},
   "outputs": [],
   "source": [
    "\n",
    "prompt = ChatPromptTemplate.from_messages(\n",
    "    [\n",
    "        (\n",
    "            \"system\",\n",
    "            \"You are a helpful assistant. Answer all questions to the best of your ability.\",\n",
    "        ),\n",
    "        MessagesPlaceholder(variable_name=\"chat_history\"),\n",
    "        (\"human\", \"{input}\"),\n",
    "    ]\n",
    ")\n",
    "\n",
    "chain = prompt | model | StrOutputParser()"
   ]
  },
  {
   "cell_type": "code",
   "execution_count": 5,
   "id": "c1cf1805-0f4f-4fd6-9139-b68321b2e0e2",
   "metadata": {},
   "outputs": [],
   "source": [
    "history_dir= Path(\"./message_history\")\n",
    "history_dir.mkdir(parents  = True , exist_ok=True)"
   ]
  },
  {
   "cell_type": "code",
   "execution_count": 6,
   "id": "ad47cc75-9345-4768-ad16-f6f354a6053d",
   "metadata": {},
   "outputs": [],
   "source": [
    "def get_session_history(session_id:str) -> FileChatMessageHistory:\n",
    "    session_history_path = history_dir / f\"{session_id}.json\"\n",
    "    return FileChatMessageHistory(str(session_history_path))"
   ]
  },
  {
   "cell_type": "code",
   "execution_count": 7,
   "id": "767456e2-380a-4356-b3cc-238322324082",
   "metadata": {},
   "outputs": [],
   "source": [
    "conv_chain = RunnableWithMessageHistory(\n",
    "    chain , get_session_history ,  input_messages_key=\"input\",\n",
    "    history_messages_key=\"chat_history\"\n",
    ")"
   ]
  },
  {
   "cell_type": "code",
   "execution_count": 8,
   "id": "b6408d47-6bdc-466e-bf64-e5d95aa37cad",
   "metadata": {},
   "outputs": [],
   "source": [
    "query = \"What is AI\"\n",
    "session_id = \"user001\""
   ]
  },
  {
   "cell_type": "code",
   "execution_count": 9,
   "id": "f41db611-1ae4-4f5a-b616-0a12fcda7a89",
   "metadata": {},
   "outputs": [
    {
     "name": "stderr",
     "output_type": "stream",
     "text": [
      "Parent run 9956faa5-445b-441e-a305-dd9181fcbf31 not found for run f58e1d40-ecde-46f1-bc64-d5d0dfdbea28. Treating as a root run.\n"
     ]
    },
    {
     "data": {
      "text/plain": [
       "'AI, or artificial intelligence, refers to the simulation of human intelligence processes by machines, such as learning, reasoning, and self-correction.'"
      ]
     },
     "execution_count": 9,
     "metadata": {},
     "output_type": "execute_result"
    }
   ],
   "source": [
    "conv_chain.invoke({'input':query},\n",
    "                 {'configurable':{'session_id':session_id}})"
   ]
  },
  {
   "cell_type": "code",
   "execution_count": 10,
   "id": "44201b77-f211-46f3-9c1e-6a156a7b65c2",
   "metadata": {},
   "outputs": [
    {
     "name": "stderr",
     "output_type": "stream",
     "text": [
      "Parent run 90133505-db62-4f9a-8884-6697d7404812 not found for run 5241f635-9da5-4d82-9a84-dc761d1e5dce. Treating as a root run.\n"
     ]
    },
    {
     "data": {
      "text/plain": [
       "'Your previous question was \"What is AI?\"'"
      ]
     },
     "execution_count": 10,
     "metadata": {},
     "output_type": "execute_result"
    }
   ],
   "source": [
    "conv_chain.invoke({'input':\"what is my previous question ?\"},\n",
    "                 {'configurable':{'session_id':session_id}})"
   ]
  },
  {
   "cell_type": "code",
   "execution_count": 11,
   "id": "79a74cdb-a14d-494a-80ac-4f25330c026d",
   "metadata": {},
   "outputs": [
    {
     "name": "stderr",
     "output_type": "stream",
     "text": [
      "Parent run 798db8b0-36d4-42d3-981e-972f0241e123 not found for run 73489b27-44db-4db0-8d4c-55ec8deeabe0. Treating as a root run.\n"
     ]
    },
    {
     "data": {
      "text/plain": [
       "'AI involves the simulation of human intelligence processes by machines, while rule-based systems rely on predefined rules and logic to make decisions or perform tasks.'"
      ]
     },
     "execution_count": 11,
     "metadata": {},
     "output_type": "execute_result"
    }
   ],
   "source": [
    "conv_chain.invoke({'input':\"How it is different than Rule  based system ?\"},\n",
    "                 {'configurable':{'session_id':session_id}})"
   ]
  },
  {
   "cell_type": "code",
   "execution_count": null,
   "id": "8d68ff2e-d746-48ba-a4e2-15b2c2e54dd4",
   "metadata": {},
   "outputs": [],
   "source": []
  },
  {
   "cell_type": "markdown",
   "id": "92dd2747-64b2-4bf9-8da2-772e21aa5006",
   "metadata": {},
   "source": [
    "# RAG"
   ]
  },
  {
   "cell_type": "code",
   "execution_count": 27,
   "id": "73e530e2-e6ae-4ff2-9cc0-f6096c32b392",
   "metadata": {},
   "outputs": [],
   "source": [
    "from langchain.vectorstores import  FAISS\n",
    "from langchain.chains import create_history_aware_retriever, create_retrieval_chain\n",
    "from langchain.chains.combine_documents import create_stuff_documents_chain\n",
    "from langchain_core.prompts import ChatPromptTemplate, MessagesPlaceholder\n",
    "from langchain_core.runnables.history import RunnableWithMessageHistory\n",
    "from langchain_openai import ChatOpenAI, OpenAIEmbeddings\n",
    "from langchain_text_splitters import RecursiveCharacterTextSplitter\n",
    "from langchain.schema.output_parser import StrOutputParser \n",
    "from langchain.memory import FileChatMessageHistory\n",
    "from pathlib import Path\n",
    "\n",
    "import os\n",
    "os.environ[\"OPENAI_API_KEY\"] = \"\"\n",
    "\n",
    "llm = ChatOpenAI(model=\"gpt-3.5-turbo\", temperature=0)"
   ]
  },
  {
   "cell_type": "code",
   "execution_count": null,
   "id": "c4f9f4f7-5fc1-4794-b16f-27564540c3eb",
   "metadata": {},
   "outputs": [],
   "source": []
  },
  {
   "cell_type": "code",
   "execution_count": 15,
   "id": "0249c593-5770-4a29-825d-4ee92d48247b",
   "metadata": {},
   "outputs": [],
   "source": [
    "# Loading already created index\n",
    "vectorstore=FAISS.load_local(\"index\" , embeddings=OpenAIEmbeddings() ,  allow_dangerous_deserialization=True)\n",
    "retriever = vectorstore.as_retriever()"
   ]
  },
  {
   "cell_type": "code",
   "execution_count": 16,
   "id": "1f74c08a-bd3a-4027-86b5-1fddc53ae255",
   "metadata": {},
   "outputs": [],
   "source": [
    "### Contextualize question ###\n",
    "contextualize_q_system_prompt = \"\"\"Given a chat history and the latest user question \\\n",
    "which might reference context in the chat history, formulate a standalone question \\\n",
    "which can be understood without the chat history. Do NOT answer the question, \\\n",
    "just reformulate it if needed and otherwise return it as is.\"\"\"\n",
    "contextualize_q_prompt = ChatPromptTemplate.from_messages(\n",
    "    [\n",
    "        (\"system\", contextualize_q_system_prompt),\n",
    "        MessagesPlaceholder(\"chat_history\"),\n",
    "        (\"human\", \"{input}\"),\n",
    "    ]\n",
    ")\n",
    "history_aware_retriever = create_history_aware_retriever(\n",
    "    llm, retriever, contextualize_q_prompt\n",
    ")\n",
    "\n",
    "\n",
    "### Answer question ###\n",
    "qa_system_prompt = \"\"\"You are an assistant for question-answering tasks. \\\n",
    "Use the following pieces of retrieved context to answer the question. \\\n",
    "If you don't know the answer, just say that you don't know. \\\n",
    "Use three sentences maximum and keep the answer concise.\\\n",
    "\n",
    "{context}\"\"\"\n",
    "qa_prompt = ChatPromptTemplate.from_messages(\n",
    "    [\n",
    "        (\"system\", qa_system_prompt),\n",
    "        MessagesPlaceholder(\"chat_history\"),\n",
    "        (\"human\", \"{input}\"),\n",
    "    ]\n",
    ")\n",
    "question_answer_chain = create_stuff_documents_chain(llm, qa_prompt)\n",
    "rag_chain = create_retrieval_chain(history_aware_retriever, question_answer_chain)"
   ]
  },
  {
   "cell_type": "code",
   "execution_count": 17,
   "id": "708ce636-a3ce-4ffd-a578-60b109a64d92",
   "metadata": {},
   "outputs": [],
   "source": [
    "history_dir= Path(\"./message_history\")\n",
    "history_dir.mkdir(parents  = True , exist_ok=True)\n",
    "\n",
    "def get_session_history(session_id:str) -> FileChatMessageHistory:\n",
    "    session_history_path = history_dir / f\"{session_id}.json\"\n",
    "    return FileChatMessageHistory(str(session_history_path))"
   ]
  },
  {
   "cell_type": "code",
   "execution_count": 18,
   "id": "927902a6-1279-4ec4-9769-9b2eaedf3b67",
   "metadata": {},
   "outputs": [],
   "source": [
    "conversational_rag_chain = RunnableWithMessageHistory(\n",
    "    rag_chain,\n",
    "    get_session_history,\n",
    "    input_messages_key=\"input\",\n",
    "    history_messages_key=\"chat_history\",\n",
    "    output_messages_key=\"answer\",\n",
    ")"
   ]
  },
  {
   "cell_type": "code",
   "execution_count": 19,
   "id": "98d85b49-5ea5-4fff-bbbd-33792280f864",
   "metadata": {},
   "outputs": [
    {
     "name": "stderr",
     "output_type": "stream",
     "text": [
      "Parent run 8ed2bd47-1767-4094-8a22-0eaebc7cb3d4 not found for run 046749b3-4b73-4ed2-b488-15d47fe32d39. Treating as a root run.\n"
     ]
    },
    {
     "data": {
      "text/plain": [
       "'Machine learning is a transformative branch of artificial intelligence that empowers computers to learn from and make decisions based on data. Unlike traditional programming, where explicit instructions dictate the outcome, ML algorithms identify patterns and infer rules directly from the data they process, improving their performance with experience over time.'"
      ]
     },
     "execution_count": 19,
     "metadata": {},
     "output_type": "execute_result"
    }
   ],
   "source": [
    "conversational_rag_chain.invoke(\n",
    "    {\"input\": \"What is machine learning ?\"},\n",
    "    config={\n",
    "        \"configurable\": {\"session_id\": \"user001\"}\n",
    "    },  \n",
    ")[\"answer\"]"
   ]
  },
  {
   "cell_type": "code",
   "execution_count": 20,
   "id": "d66c4255-f9b6-4c09-883b-c5ae5be788fb",
   "metadata": {},
   "outputs": [
    {
     "name": "stderr",
     "output_type": "stream",
     "text": [
      "Parent run d44a50cf-450b-49ea-a218-344d3791af13 not found for run bba275aa-9ae9-4051-b0f0-813df9245dab. Treating as a root run.\n"
     ]
    },
    {
     "data": {
      "text/plain": [
       "'Your previous question was \"What is machine learning?\"'"
      ]
     },
     "execution_count": 20,
     "metadata": {},
     "output_type": "execute_result"
    }
   ],
   "source": [
    "conversational_rag_chain.invoke(\n",
    "    {\"input\": \"What is my previous question ?\"},\n",
    "    config={\n",
    "        \"configurable\": {\"session_id\": \"user001\"}\n",
    "    },  \n",
    ")[\"answer\"]"
   ]
  },
  {
   "cell_type": "code",
   "execution_count": 21,
   "id": "77a9e55a-36f6-44c0-af1c-bc923e5139e1",
   "metadata": {},
   "outputs": [
    {
     "name": "stderr",
     "output_type": "stream",
     "text": [
      "Parent run b677d705-2158-46d5-8ea0-86312d64c479 not found for run 19194a3e-4d34-40c1-97b6-4e736379b94f. Treating as a root run.\n"
     ]
    },
    {
     "data": {
      "text/plain": [
       "'Deep learning is a subset of machine learning that uses neural networks with many layers to model complex patterns in large datasets.'"
      ]
     },
     "execution_count": 21,
     "metadata": {},
     "output_type": "execute_result"
    }
   ],
   "source": [
    "conversational_rag_chain.invoke(\n",
    "    {\"input\": \"How it is different than deep learning. Give answer in one line.\"},\n",
    "    config={\n",
    "        \"configurable\": {\"session_id\": \"user001\"}\n",
    "    },  \n",
    ")[\"answer\"]"
   ]
  },
  {
   "cell_type": "code",
   "execution_count": 22,
   "id": "c0f94115-66b8-44d7-ace5-202cd2258d8a",
   "metadata": {},
   "outputs": [
    {
     "name": "stderr",
     "output_type": "stream",
     "text": [
      "Parent run ba4e8e8f-47a2-4acf-a272-2d9a7f8be1df not found for run 6cd7cffa-0ddf-4ab5-8750-ce66447ecf94. Treating as a root run.\n"
     ]
    },
    {
     "data": {
      "text/plain": [
       "'Supervised learning involves training models on labeled data to make predictions or classifications. It includes techniques like regression for continuous outcomes and classification for discrete categories. Common algorithms in supervised learning include linear regression, decision trees, random forests, support vector machines, and neural networks.'"
      ]
     },
     "execution_count": 22,
     "metadata": {},
     "output_type": "execute_result"
    }
   ],
   "source": [
    "conversational_rag_chain.invoke(\n",
    "    {\"input\": \"what  is supervised learning\"},\n",
    "    config={\n",
    "        \"configurable\": {\"session_id\": \"user002\"}\n",
    "    },  \n",
    ")[\"answer\"]"
   ]
  },
  {
   "cell_type": "code",
   "execution_count": 17,
   "id": "c2b08c91-b498-4e47-9c0b-df9a56dcd0d9",
   "metadata": {},
   "outputs": [
    {
     "name": "stderr",
     "output_type": "stream",
     "text": [
      "Parent run af4c03f6-0e7c-4a80-9f26-d340a234c0ef not found for run 04a82388-32d4-4939-b2db-4897da32b2ca. Treating as a root run.\n"
     ]
    },
    {
     "data": {
      "text/plain": [
       "'Your previously asked question was about supervised learning, which involves training models on labeled data to make predictions or classifications. It includes techniques like regression for continuous outcomes and classification for discrete categories. Common algorithms in supervised learning include linear regression, decision trees, random forests, support vector machines, and neural networks.'"
      ]
     },
     "execution_count": 17,
     "metadata": {},
     "output_type": "execute_result"
    }
   ],
   "source": [
    "conversational_rag_chain.invoke(\n",
    "    {\"input\": \"what is my previously asked question ?\"},\n",
    "    config={\n",
    "        \"configurable\": {\"session_id\": \"user002\"}\n",
    "    },  \n",
    ")[\"answer\"]"
   ]
  },
  {
   "cell_type": "code",
   "execution_count": 23,
   "id": "ab8a0c77-c8d1-4c4a-abc5-6b36078a4899",
   "metadata": {},
   "outputs": [
    {
     "name": "stderr",
     "output_type": "stream",
     "text": [
      "Parent run ca19a72b-51e5-445d-911c-f6b1eb3c1c9a not found for run c263e5a3-07b9-4243-8597-4e3a7c21e6d6. Treating as a root run.\n"
     ]
    },
    {
     "data": {
      "text/plain": [
       "'Your previous question was \"How it is different than deep learning. Give answer in one line.\"'"
      ]
     },
     "execution_count": 23,
     "metadata": {},
     "output_type": "execute_result"
    }
   ],
   "source": [
    "conversational_rag_chain.invoke(\n",
    "    {\"input\": \"what is my previously asked question ?\"},\n",
    "    config={\n",
    "        \"configurable\": {\"session_id\": \"user001\"}\n",
    "    },  \n",
    ")[\"answer\"]"
   ]
  },
  {
   "cell_type": "code",
   "execution_count": null,
   "id": "22f78972-2c0b-4355-9e9d-99c929520dbf",
   "metadata": {},
   "outputs": [],
   "source": []
  }
 ],
 "metadata": {
  "kernelspec": {
   "display_name": "Python 3 (ipykernel)",
   "language": "python",
   "name": "python3"
  },
  "language_info": {
   "codemirror_mode": {
    "name": "ipython",
    "version": 3
   },
   "file_extension": ".py",
   "mimetype": "text/x-python",
   "name": "python",
   "nbconvert_exporter": "python",
   "pygments_lexer": "ipython3",
   "version": "3.10.0"
  }
 },
 "nbformat": 4,
 "nbformat_minor": 5
}
